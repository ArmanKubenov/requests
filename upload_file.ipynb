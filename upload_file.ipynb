{
 "cells": [
  {
   "cell_type": "code",
   "execution_count": 30,
   "id": "dae219de",
   "metadata": {},
   "outputs": [
    {
     "name": "stdout",
     "output_type": "stream",
     "text": [
      "{'href': 'https://uploader50j.disk.yandex.net:443/upload-target/20230416T132854.657.utd.6vgx4qsd9zm177fkhle68hggt-k50j.34811266',\n",
      " 'method': 'PUT',\n",
      " 'operation_id': '6abf9bb56e0007266bb6880268097df4f39b0e3eb89947ce1e4493fde0e25fc8',\n",
      " 'templated': False}\n",
      "Загружено\n"
     ]
    }
   ],
   "source": [
    "from pprint import pprint\n",
    "import requests\n",
    "\n",
    "TOKEN = ''\n",
    "\n",
    "\n",
    "class YandexDisk:\n",
    "\n",
    "    def __init__(self, token):\n",
    "        self.token = token\n",
    "\n",
    "    def get_headers(self):\n",
    "        return {\n",
    "            'Content-Type': 'application/json',\n",
    "            'Authorization': 'OAuth {}'.format(self.token)\n",
    "        }\n",
    "\n",
    "    def get_files_list(self):\n",
    "        files_url = 'https://cloud-api.yandex.net/v1/disk/resources/files'\n",
    "        headers = self.get_headers()\n",
    "        response = requests.get(files_url, headers=headers)\n",
    "        return response.json()\n",
    "\n",
    "    def _get_upload_link(self, disk_file_path):\n",
    "        upload_url = \"https://cloud-api.yandex.net/v1/disk/resources/upload\"\n",
    "        headers = self.get_headers()\n",
    "        params = {\"path\": disk_file_path, \"overwrite\": \"true\"}\n",
    "        response = requests.get(upload_url, headers=headers, params=params)\n",
    "        pprint(response.json())\n",
    "        return response.json()\n",
    "\n",
    "    def upload_file_to_disk(self, disk_file_path, filename):\n",
    "        href_json = self._get_upload_link(disk_file_path=disk_file_path)\n",
    "        href = href_json[\"href\"]\n",
    "        response = requests.put(href, data=open(filename, 'rb'))\n",
    "        response.raise_for_status()\n",
    "        if response.status_code == 201:\n",
    "            print(\"Загружено\")\n",
    "\n",
    "\n",
    "if __name__ == \"__main__\":\n",
    "    ya = YandexDisk(token=TOKEN)\n",
    "    ya.upload_file_to_disk(r'hw\\photo.png', 'photo.png')"
   ]
  },
  {
   "cell_type": "code",
   "execution_count": null,
   "id": "e1369c57",
   "metadata": {},
   "outputs": [],
   "source": []
  }
 ],
 "metadata": {
  "kernelspec": {
   "display_name": "Python 3 (ipykernel)",
   "language": "python",
   "name": "python3"
  },
  "language_info": {
   "codemirror_mode": {
    "name": "ipython",
    "version": 3
   },
   "file_extension": ".py",
   "mimetype": "text/x-python",
   "name": "python",
   "nbconvert_exporter": "python",
   "pygments_lexer": "ipython3",
   "version": "3.10.9"
  }
 },
 "nbformat": 4,
 "nbformat_minor": 5
}
